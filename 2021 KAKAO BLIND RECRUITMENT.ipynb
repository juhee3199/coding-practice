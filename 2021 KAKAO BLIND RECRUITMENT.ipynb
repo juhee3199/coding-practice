{
 "cells": [
  {
   "cell_type": "markdown",
   "metadata": {},
   "source": [
    "### 1. 신규 아이디 추천"
   ]
  },
  {
   "cell_type": "code",
   "execution_count": null,
   "metadata": {},
   "outputs": [],
   "source": [
    "import re\n",
    "\n",
    "def solution(new_id):\n",
    "    st = new_id\n",
    "    st = st.lower()\n",
    "    st = re.sub('[^a-z0-9\\-_.]', '', st)\n",
    "    st = re.sub('\\.+', '.', st)\n",
    "    st = re.sub('^[.]|[.]$', '', st)\n",
    "    st = 'a' if len(st) == 0 else st[:15]\n",
    "    st = re.sub('^[.]|[.]$', '', st)\n",
    "    st = st if len(st) > 2 else st + \"\".join([st[-1] for i in range(3-len(st))])\n",
    "    return st"
   ]
  },
  {
   "cell_type": "code",
   "execution_count": 122,
   "metadata": {},
   "outputs": [],
   "source": [
    "# 속도가 조금 느림.\n",
    "\n",
    "import re\n",
    "\n",
    "def solution(new_id):\n",
    "    st = new_id\n",
    "    st = st.lower()\n",
    "    st = re.sub('[^a-z0-9\\-_.]', '', st)\n",
    "    st = re.sub('\\.+', '.', st)\n",
    "    st = re.sub('^[.]|[.]$', '', st)\n",
    "    st = 'a' if len(st) == 0 else st[:15]\n",
    "    st = re.sub('[.]$', '', st)  # 위의 코드에서 이부분만 달라짐.\n",
    "    st = st if len(st) > 2 else st + \"\".join([st[-1] for i in range(3-len(st))])\n",
    "    return st"
   ]
  },
  {
   "cell_type": "code",
   "execution_count": 123,
   "metadata": {},
   "outputs": [
    {
     "data": {
      "text/plain": [
       "'bat.y.abcdefghi'"
      ]
     },
     "execution_count": 123,
     "metadata": {},
     "output_type": "execute_result"
    }
   ],
   "source": [
    "new_id = \"...!@BaT#*..y.abcdefghijklm-\"\n",
    "\n",
    "solution(new_id)\n"
   ]
  },
  {
   "cell_type": "code",
   "execution_count": null,
   "metadata": {},
   "outputs": [],
   "source": [
    "#  st = re.sub('[^a-z0-9\\-_.]', '', st)\n",
    "\n",
    "# \\, ^, -, ] 4개는 대괄호 안에서 메타문자 역할을 한다. \n",
    "# ., *, + 등은 대괄호 안에서는 그냥 문자 ‘.’, ‘*’, ‘+’ 하나에 매칭된다."
   ]
  },
  {
   "cell_type": "markdown",
   "metadata": {},
   "source": [
    "### 2. 메뉴 리뉴얼"
   ]
  },
  {
   "cell_type": "code",
   "execution_count": 227,
   "metadata": {},
   "outputs": [],
   "source": [
    "orders = [\"ABCFG\", \"AC\", \"CDE\", \"ACDE\", \"BCFG\", \"ACDEH\"]\n",
    "course = [2,3,4]"
   ]
  },
  {
   "cell_type": "code",
   "execution_count": 228,
   "metadata": {},
   "outputs": [
    {
     "data": {
      "text/plain": [
       "['A', 'B', 'C', 'D', 'E', 'F', 'G', 'H']"
      ]
     },
     "execution_count": 228,
     "metadata": {},
     "output_type": "execute_result"
    }
   ],
   "source": [
    "order_list = []\n",
    "[order_list.append(i) for order in orders for i in order if i not in order_list]\n",
    "order_list.sort()\n",
    "order_list    "
   ]
  },
  {
   "cell_type": "code",
   "execution_count": 230,
   "metadata": {},
   "outputs": [],
   "source": [
    "course_ls = []\n",
    "\n",
    "for i in order_list:\n",
    "    for j in order_list:\n",
    "        if i != j: temp = i+j \n",
    "        if temp not in course_ls: course_ls.append(temp)"
   ]
  },
  {
   "cell_type": "code",
   "execution_count": 231,
   "metadata": {},
   "outputs": [
    {
     "data": {
      "text/plain": [
       "['HG',\n",
       " 'AB',\n",
       " 'AC',\n",
       " 'AD',\n",
       " 'AE',\n",
       " 'AF',\n",
       " 'AG',\n",
       " 'AH',\n",
       " 'BA',\n",
       " 'BC',\n",
       " 'BD',\n",
       " 'BE',\n",
       " 'BF',\n",
       " 'BG',\n",
       " 'BH',\n",
       " 'CA',\n",
       " 'CB',\n",
       " 'CD',\n",
       " 'CE',\n",
       " 'CF',\n",
       " 'CG',\n",
       " 'CH',\n",
       " 'DA',\n",
       " 'DB',\n",
       " 'DC',\n",
       " 'DE',\n",
       " 'DF',\n",
       " 'DG',\n",
       " 'DH',\n",
       " 'EA',\n",
       " 'EB',\n",
       " 'EC',\n",
       " 'ED',\n",
       " 'EF',\n",
       " 'EG',\n",
       " 'EH',\n",
       " 'FA',\n",
       " 'FB',\n",
       " 'FC',\n",
       " 'FD',\n",
       " 'FE',\n",
       " 'FG',\n",
       " 'FH',\n",
       " 'GA',\n",
       " 'GB',\n",
       " 'GC',\n",
       " 'GD',\n",
       " 'GE',\n",
       " 'GF',\n",
       " 'GH',\n",
       " 'HA',\n",
       " 'HB',\n",
       " 'HC',\n",
       " 'HD',\n",
       " 'HE',\n",
       " 'HF']"
      ]
     },
     "execution_count": 231,
     "metadata": {},
     "output_type": "execute_result"
    }
   ],
   "source": [
    "course_ls"
   ]
  },
  {
   "cell_type": "code",
   "execution_count": 229,
   "metadata": {},
   "outputs": [
    {
     "data": {
      "text/plain": [
       "[('A', 'B'),\n",
       " ('A', 'C'),\n",
       " ('A', 'D'),\n",
       " ('A', 'E'),\n",
       " ('A', 'F'),\n",
       " ('A', 'G'),\n",
       " ('A', 'H'),\n",
       " ('B', 'C'),\n",
       " ('B', 'D'),\n",
       " ('B', 'E'),\n",
       " ('B', 'F'),\n",
       " ('B', 'G'),\n",
       " ('B', 'H'),\n",
       " ('C', 'D'),\n",
       " ('C', 'E'),\n",
       " ('C', 'F'),\n",
       " ('C', 'G'),\n",
       " ('C', 'H'),\n",
       " ('D', 'E'),\n",
       " ('D', 'F'),\n",
       " ('D', 'G'),\n",
       " ('D', 'H'),\n",
       " ('E', 'F'),\n",
       " ('E', 'G'),\n",
       " ('E', 'H'),\n",
       " ('F', 'G'),\n",
       " ('F', 'H'),\n",
       " ('G', 'H')]"
      ]
     },
     "execution_count": 229,
     "metadata": {},
     "output_type": "execute_result"
    }
   ],
   "source": [
    "import itertools\n",
    "\n",
    "comb2 = []\n",
    "\n",
    "comb2+= itertools.combinations(order_list, 2)\n",
    "comb2"
   ]
  },
  {
   "cell_type": "markdown",
   "metadata": {},
   "source": [
    "- 정답.."
   ]
  },
  {
   "cell_type": "code",
   "execution_count": 256,
   "metadata": {},
   "outputs": [],
   "source": [
    "import collections\n",
    "import itertools\n",
    "\n",
    "def solution(orders, course):\n",
    "    result = []\n",
    "\n",
    "    for course_size in course:\n",
    "        order_combinations = []\n",
    "        for order in orders:\n",
    "            order_combinations += itertools.combinations(sorted(order), course_size)\n",
    "\n",
    "        most_ordered = collections.Counter(order_combinations).most_common()\n",
    "        result += [ k for k, v in most_ordered if v > 1 and v == most_ordered[0][1] ]\n",
    "\n",
    "    return [ ''.join(v) for v in sorted(result) ]\n"
   ]
  },
  {
   "cell_type": "code",
   "execution_count": 257,
   "metadata": {},
   "outputs": [],
   "source": [
    "orders = [\"ABCFG\", \"AC\", \"CDE\", \"ACDE\", \"BCFG\", \"ACDEH\"]\n",
    "course = [2,3,4]"
   ]
  },
  {
   "cell_type": "code",
   "execution_count": 258,
   "metadata": {},
   "outputs": [
    {
     "data": {
      "text/plain": [
       "['AC', 'ACDE', 'BCFG', 'CDE']"
      ]
     },
     "execution_count": 258,
     "metadata": {},
     "output_type": "execute_result"
    }
   ],
   "source": [
    "solution(orders, course)"
   ]
  },
  {
   "cell_type": "markdown",
   "metadata": {},
   "source": [
    "- 풀이"
   ]
  },
  {
   "cell_type": "code",
   "execution_count": 259,
   "metadata": {},
   "outputs": [
    {
     "name": "stdout",
     "output_type": "stream",
     "text": [
      "['A', 'B', 'C', 'F', 'G']\n",
      "['A', 'C']\n",
      "['C', 'D', 'E']\n",
      "['A', 'C', 'D', 'E']\n",
      "['B', 'C', 'F', 'G']\n",
      "['A', 'C', 'D', 'E', 'H']\n"
     ]
    }
   ],
   "source": [
    "for order in orders:\n",
    "    print(sorted(order))"
   ]
  },
  {
   "cell_type": "code",
   "execution_count": 264,
   "metadata": {},
   "outputs": [
    {
     "name": "stdout",
     "output_type": "stream",
     "text": [
      "[('A', 'C')]\n",
      "[('A', 'C'), ('C', 'D', 'E')]\n",
      "[('A', 'C'), ('C', 'D', 'E'), ('B', 'C', 'F', 'G'), ('A', 'C', 'D', 'E')]\n"
     ]
    }
   ],
   "source": [
    "result = []\n",
    "\n",
    "for course_size in course:\n",
    "    order_combinations = []\n",
    "    for order in orders:\n",
    "        order_combinations += itertools.combinations(sorted(order), course_size)\n",
    "\n",
    "    #  most_common(): 데이터의 개수가 많은 순으로 정렬된 배열을 리턴    \n",
    "    most_ordered = collections.Counter(order_combinations).most_common()\n",
    "    \n",
    "    result += [ k for k, v in most_ordered if v > 1 and v == most_ordered[0][1] ]\n",
    "    print(result)\n",
    "\n"
   ]
  },
  {
   "cell_type": "code",
   "execution_count": 269,
   "metadata": {},
   "outputs": [
    {
     "data": {
      "text/plain": [
       "[(('A', 'C'), 4),\n",
       " (('C', 'D'), 3),\n",
       " (('C', 'E'), 3),\n",
       " (('D', 'E'), 3),\n",
       " (('B', 'C'), 2),\n",
       " (('B', 'F'), 2),\n",
       " (('B', 'G'), 2),\n",
       " (('C', 'F'), 2),\n",
       " (('C', 'G'), 2),\n",
       " (('F', 'G'), 2),\n",
       " (('A', 'D'), 2),\n",
       " (('A', 'E'), 2),\n",
       " (('A', 'B'), 1),\n",
       " (('A', 'F'), 1),\n",
       " (('A', 'G'), 1),\n",
       " (('A', 'H'), 1),\n",
       " (('C', 'H'), 1),\n",
       " (('D', 'H'), 1),\n",
       " (('E', 'H'), 1)]"
      ]
     },
     "execution_count": 269,
     "metadata": {},
     "output_type": "execute_result"
    }
   ],
   "source": [
    "# course가 2인 경우\n",
    "\n",
    "order_combinations = []\n",
    "for order in orders:\n",
    "    order_combinations += itertools.combinations(sorted(order), 2)\n",
    "most_ordered = collections.Counter(order_combinations).most_common()\n",
    "most_ordered\n",
    "\n"
   ]
  },
  {
   "cell_type": "code",
   "execution_count": 270,
   "metadata": {},
   "outputs": [
    {
     "name": "stdout",
     "output_type": "stream",
     "text": [
      "[('A', 'C')]\n"
     ]
    }
   ],
   "source": [
    "result = []\n",
    "result += [ k for k, v in most_ordered if v > 1 and v == most_ordered[0][1] ]\n",
    "print(result)"
   ]
  },
  {
   "cell_type": "markdown",
   "metadata": {},
   "source": [
    "### 3. 순위 검색"
   ]
  },
  {
   "cell_type": "code",
   "execution_count": 415,
   "metadata": {},
   "outputs": [],
   "source": [
    "# 답은 맞지만 효율성이 너무 좋지 않음.\n",
    "\n",
    "\n",
    "def solution(info, query):\n",
    "    query_split = [q.replace(' and ',' ').split(' ') for q in query]\n",
    "    info_split = [f.split(' ') for f in info]\n",
    "    \n",
    "    answer = []\n",
    "    [answer.append(0) for i in range(len(query))]\n",
    "    \n",
    "    for i in range(len(query_split)):\n",
    "        for j in range(len(info_split)):\n",
    "            if query_split[i][0] == info_split[j][0] or query_split[i][0]=='-':\n",
    "                if query_split[i][1] == info_split[j][1] or query_split[i][1]=='-':\n",
    "                    if query_split[i][2] == info_split[j][2] or query_split[i][2]=='-':\n",
    "                        if query_split[i][3] == info_split[j][3] or query_split[i][3]=='-':\n",
    "                            if int(query_split[i][4]) <= int(info_split[j][4]) or query_split[i][4]=='-':\n",
    "                                answer[i]+=1\n",
    "    return answer"
   ]
  },
  {
   "cell_type": "code",
   "execution_count": 416,
   "metadata": {},
   "outputs": [
    {
     "data": {
      "text/plain": [
       "[1, 1, 1, 1, 2, 4]"
      ]
     },
     "execution_count": 416,
     "metadata": {},
     "output_type": "execute_result"
    }
   ],
   "source": [
    "info = [\"java backend junior pizza 150\",\"python frontend senior chicken 210\",\"python frontend senior chicken 150\",\"cpp backend senior pizza 260\",\"java backend junior chicken 80\",\"python backend senior chicken 50\"]\n",
    "query = [\"java and backend and junior and pizza 100\",\"python and frontend and senior and chicken 200\",\"cpp and - and senior and pizza 250\",\"- and backend and senior and - 150\",\"- and - and - and chicken 100\",\"- and - and - and - 150\"]\n",
    "\n",
    "\n",
    "solution(info, query)"
   ]
  },
  {
   "cell_type": "code",
   "execution_count": 363,
   "metadata": {},
   "outputs": [
    {
     "data": {
      "text/plain": [
       "[['java', 'backend', 'junior', 'pizza', '100'],\n",
       " ['python', 'frontend', 'senior', 'chicken', '200'],\n",
       " ['cpp', '-', 'senior', 'pizza', '250'],\n",
       " ['-', 'backend', 'senior', '-', '150'],\n",
       " ['-', '-', '-', 'chicken', '100'],\n",
       " ['-', '-', '-', '-', '150']]"
      ]
     },
     "execution_count": 363,
     "metadata": {},
     "output_type": "execute_result"
    }
   ],
   "source": [
    "query_split = [q.replace(' and ',' ').split(' ') for q in query]\n",
    "query_split"
   ]
  },
  {
   "cell_type": "code",
   "execution_count": 301,
   "metadata": {},
   "outputs": [
    {
     "data": {
      "text/plain": [
       "[['java', 'backend', 'junior', 'pizza', '150'],\n",
       " ['python', 'frontend', 'senior', 'chicken', '210'],\n",
       " ['python', 'frontend', 'senior', 'chicken', '150'],\n",
       " ['cpp', 'backend', 'senior', 'pizza', '260'],\n",
       " ['java', 'backend', 'junior', 'chicken', '80'],\n",
       " ['python', 'backend', 'senior', 'chicken', '50']]"
      ]
     },
     "execution_count": 301,
     "metadata": {},
     "output_type": "execute_result"
    }
   ],
   "source": [
    "info_split = [f.split(' ') for f in info]\n",
    "info_split"
   ]
  },
  {
   "cell_type": "code",
   "execution_count": 410,
   "metadata": {},
   "outputs": [
    {
     "data": {
      "text/plain": [
       "[0, 0, 0, 0, 0, 0]"
      ]
     },
     "execution_count": 410,
     "metadata": {},
     "output_type": "execute_result"
    }
   ],
   "source": [
    "answer = []\n",
    "[answer.append(0) for i in range(len(query))]\n",
    "answer"
   ]
  },
  {
   "cell_type": "code",
   "execution_count": 411,
   "metadata": {},
   "outputs": [],
   "source": [
    "for i in range(len(query_split)):\n",
    "    for j in range(len(info_split)):\n",
    "        if query_split[i][0] == info_split[j][0] or query_split[i][0]=='-':\n",
    "            if query_split[i][1] == info_split[j][1] or query_split[i][1]=='-':\n",
    "                if query_split[i][2] == info_split[j][2] or query_split[i][2]=='-':\n",
    "                    if query_split[i][3] == info_split[j][3] or query_split[i][3]=='-':\n",
    "                        if int(query_split[i][4]) <= int(info_split[j][4]) or query_split[i][4]=='-':\n",
    "                            answer[i]+=1\n",
    "            "
   ]
  },
  {
   "cell_type": "code",
   "execution_count": 412,
   "metadata": {},
   "outputs": [
    {
     "data": {
      "text/plain": [
       "[1, 1, 1, 1, 2, 4]"
      ]
     },
     "execution_count": 412,
     "metadata": {},
     "output_type": "execute_result"
    }
   ],
   "source": [
    "answer"
   ]
  },
  {
   "cell_type": "markdown",
   "metadata": {},
   "source": [
    "- 효율성 코드로 다시 짜기"
   ]
  },
  {
   "cell_type": "code",
   "execution_count": null,
   "metadata": {},
   "outputs": [],
   "source": []
  }
 ],
 "metadata": {
  "kernelspec": {
   "display_name": "Python 3",
   "language": "python",
   "name": "python3"
  },
  "language_info": {
   "codemirror_mode": {
    "name": "ipython",
    "version": 3
   },
   "file_extension": ".py",
   "mimetype": "text/x-python",
   "name": "python",
   "nbconvert_exporter": "python",
   "pygments_lexer": "ipython3",
   "version": "3.7.3"
  }
 },
 "nbformat": 4,
 "nbformat_minor": 2
}
