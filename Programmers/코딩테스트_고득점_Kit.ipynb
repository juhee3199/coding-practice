{
  "nbformat": 4,
  "nbformat_minor": 0,
  "metadata": {
    "colab": {
      "name": "코딩테스트 고득점 Kit.ipynb",
      "provenance": [],
      "collapsed_sections": [],
      "authorship_tag": "ABX9TyNiys3tLHKYP0sk7io/5tpm",
      "include_colab_link": true
    },
    "kernelspec": {
      "name": "python3",
      "display_name": "Python 3"
    },
    "language_info": {
      "name": "python"
    }
  },
  "cells": [
    {
      "cell_type": "markdown",
      "metadata": {
        "id": "view-in-github",
        "colab_type": "text"
      },
      "source": [
        "<a href=\"https://colab.research.google.com/github/juhee3199/coding-practice/blob/main/Programmers/%EC%BD%94%EB%94%A9%ED%85%8C%EC%8A%A4%ED%8A%B8_%EA%B3%A0%EB%93%9D%EC%A0%90_Kit.ipynb\" target=\"_parent\"><img src=\"https://colab.research.google.com/assets/colab-badge.svg\" alt=\"Open In Colab\"/></a>"
      ]
    },
    {
      "cell_type": "code",
      "execution_count": null,
      "metadata": {
        "id": "kR7To_Ej_0Dr"
      },
      "outputs": [],
      "source": [
        "\"\"\"# 뒤에 있는 기능이 앞에 있는 기능보다 먼저 개발될 수 있고, 이때 뒤에 있는 기능은 앞에 있는 기능이 배포될 때 함께 배포 = 큐. 선입선출\n",
        "\n",
        "def solution(progresses, speeds):\n",
        "    answer = [] # return\n",
        "    \n",
        "    cnt =[] # 작업 일 수\n",
        "\n",
        "    for i in range(len(progresses)):\n",
        "            count = 0\n",
        "            while progresses[i]<100:\n",
        "                progresses[i] = progresses[i] + speeds[i]\n",
        "                count +=1\n",
        "              #  print(count)\n",
        "\n",
        "            cnt.append(count)\n",
        "    \n",
        "    answer = []    \n",
        "    for i in range(len(cnt)):\n",
        "        print(i)\n",
        "        count = 1\n",
        "\n",
        "        if i!=0 and sum(answer)-1 >= i:\n",
        "            print('pass')\n",
        "            continue\n",
        "\n",
        "        for j in range(i+1,len(cnt)):\n",
        "            if cnt[j] <= cnt[i]:\n",
        "                count+=1\n",
        "\n",
        "                #print(count, i)\n",
        "\n",
        "            else: \n",
        "                break\n",
        "\n",
        "\n",
        "        answer.append(count)\n",
        "     #   print(answer)\n",
        "\n",
        "\n",
        "        \n",
        "    return answer\"\"\""
      ]
    },
    {
      "cell_type": "code",
      "source": [
        "progresses = [93, 30, 55]\n",
        "speeds = [1,30,5]"
      ],
      "metadata": {
        "id": "0gjpkAa2_2q7"
      },
      "execution_count": null,
      "outputs": []
    },
    {
      "cell_type": "code",
      "source": [
        "progresses = [95, 90, 99, 99, 80, 99]\n",
        "speeds =[1, 1, 1, 1, 1, 1]"
      ],
      "metadata": {
        "id": "pG7KkfMoPr-T"
      },
      "execution_count": null,
      "outputs": []
    },
    {
      "cell_type": "code",
      "source": [
        "cnt =[]\n",
        "for i in range(len(progresses)):\n",
        "        count = 0\n",
        "        while progresses[i]<100:\n",
        "            progresses[i] = progresses[i] + speeds[i]\n",
        "            count +=1\n",
        "          #  print(count)\n",
        "            \n",
        "        cnt.append(count)"
      ],
      "metadata": {
        "id": "dmKph4XHAEDt"
      },
      "execution_count": null,
      "outputs": []
    },
    {
      "cell_type": "code",
      "source": [
        "print(cnt)"
      ],
      "metadata": {
        "colab": {
          "base_uri": "https://localhost:8080/"
        },
        "id": "XpoOytuBAGeM",
        "outputId": "550ccca5-7d81-4478-dc1e-8345193c10fd"
      },
      "execution_count": null,
      "outputs": [
        {
          "output_type": "stream",
          "name": "stdout",
          "text": [
            "[7, 3, 9]\n"
          ]
        }
      ]
    },
    {
      "cell_type": "code",
      "source": [
        "\"\"\"answer = []    \n",
        "for i in range(len(cnt)):\n",
        "  print(i)\n",
        "  count = 1\n",
        "\n",
        "  if i!=0 and cnt[i-1] <= cnt[i]:  # 나보다 작으면 pass\n",
        "    pass \n",
        "\n",
        "  else:\n",
        "    for j in range(i+1,len(cnt)):\n",
        "      if cnt[j] <= cnt[i]:\n",
        "          count+=1\n",
        "          \n",
        "          print(count, i)\n",
        "\n",
        "      else: \n",
        "        break\n",
        "\n",
        "    \n",
        "    answer.append(count)\n",
        "\"\"\""
      ],
      "metadata": {
        "colab": {
          "base_uri": "https://localhost:8080/"
        },
        "id": "P-zlYfbkF2Cb",
        "outputId": "cba59556-f968-4e11-bad0-3cfd060d44da"
      },
      "execution_count": null,
      "outputs": [
        {
          "output_type": "stream",
          "name": "stdout",
          "text": [
            "0\n",
            "1\n",
            "2\n",
            "2 2\n",
            "3\n",
            "4\n",
            "5\n"
          ]
        }
      ]
    },
    {
      "cell_type": "code",
      "source": [
        "answer = []    \n",
        "for i in range(len(cnt)):\n",
        "  print(i)\n",
        "  count = 1\n",
        "\n",
        "  if i!=0 and sum(answer)-1 >= i:\n",
        "    print('pass')\n",
        "    continue\n",
        "\n",
        "  for j in range(i+1,len(cnt)):\n",
        "    if cnt[j] <= cnt[i]:\n",
        "        count+=1\n",
        "        \n",
        "        print(count, i)\n",
        "\n",
        "    else: \n",
        "      break\n",
        "\n",
        "    \n",
        "  answer.append(count)\n",
        "  print(answer)\n"
      ],
      "metadata": {
        "colab": {
          "base_uri": "https://localhost:8080/"
        },
        "id": "TMQWEyUTSOvG",
        "outputId": "568d9d90-53d0-4ebd-b002-561ef25b4765"
      },
      "execution_count": null,
      "outputs": [
        {
          "output_type": "stream",
          "name": "stdout",
          "text": [
            "0\n",
            "2 0\n",
            "[2]\n",
            "1\n",
            "pass\n",
            "2\n",
            "[2, 1]\n"
          ]
        }
      ]
    },
    {
      "cell_type": "code",
      "source": [
        "answer"
      ],
      "metadata": {
        "colab": {
          "base_uri": "https://localhost:8080/"
        },
        "id": "IFxDZe8cG9Ga",
        "outputId": "c035ea87-ee79-4909-8ffd-2d22e52de653"
      },
      "execution_count": null,
      "outputs": [
        {
          "output_type": "execute_result",
          "data": {
            "text/plain": [
              "[2, 1]"
            ]
          },
          "metadata": {},
          "execution_count": 238
        }
      ]
    },
    {
      "cell_type": "code",
      "source": [
        ""
      ],
      "metadata": {
        "id": "elBAD94rJNjF"
      },
      "execution_count": null,
      "outputs": []
    },
    {
      "cell_type": "markdown",
      "source": [
        "#### 스택/큐 > 기능개발\n",
        "\n",
        "https://programmers.co.kr/learn/courses/30/lessons/42586"
      ],
      "metadata": {
        "id": "ab0bLUamW_fy"
      }
    },
    {
      "cell_type": "code",
      "source": [
        "progresses = [93, 30, 55]\n",
        "speeds = [1,30,5]"
      ],
      "metadata": {
        "id": "bZl9o9c-b3U2"
      },
      "execution_count": null,
      "outputs": []
    },
    {
      "cell_type": "code",
      "source": [
        "progresses = [95, 90, 99, 99, 80, 99]\n",
        "speeds =[1, 1, 1, 1, 1, 1]"
      ],
      "metadata": {
        "id": "PT35BOW4b4-w"
      },
      "execution_count": null,
      "outputs": []
    },
    {
      "cell_type": "code",
      "source": [
        "\"\"\"# 뒤에 있는 기능이 앞에 있는 기능보다 먼저 개발될 수 있고, 이때 뒤에 있는 기능은 앞에 있는 기능이 배포될 때 함께 배포 = 큐. 선입선출\"\"\"\n",
        "\n",
        "\"\"\"# 뒤에 있는 기능이 앞에 있는 기능보다 먼저 개발될 수 있고, 이때 뒤에 있는 기능은 앞에 있는 기능이 배포될 때 함께 배포 = 큐. 선입선출\"\"\"\n",
        "\n",
        "def solution(progresses, speeds):\n",
        "    \n",
        "    import math\n",
        "\n",
        "    cnt =[]\n",
        "    cnt = [math.ceil((100-p)/s) for p, s in zip(progresses, speeds)] # [7, 3, 9]   #ceil은 소수점 올림함수\n",
        "    \n",
        "    answer = []  \n",
        "\n",
        "    for i in range(len(cnt)):      \n",
        "        if(i==0 or cnt[sum(answer)-answer[-1]] < cnt[i]):  # 0번 원소거나 기준 값보다 클 경우에만 새로 추가(배포)\n",
        "            answer.append(1)\n",
        "\n",
        "        else:  # 앞에 기능과 함께 배포\n",
        "            answer[-1]+=1\n",
        "        \n",
        "    return answer\n",
        "\n",
        "solution(progresses, speeds)"
      ],
      "metadata": {
        "colab": {
          "base_uri": "https://localhost:8080/"
        },
        "id": "yeSMjmlEdlib",
        "outputId": "9bacef8a-bd1e-45a0-df58-92c9cc6be955"
      },
      "execution_count": null,
      "outputs": [
        {
          "output_type": "execute_result",
          "data": {
            "text/plain": [
              "[1, 3, 2]"
            ]
          },
          "metadata": {},
          "execution_count": 334
        }
      ]
    },
    {
      "cell_type": "code",
      "source": [
        "import math\n",
        "\n",
        "cnt =[]\n",
        "\n",
        "cnt = [math.ceil((100-p)/s) for p, s in zip(progresses, speeds)] # [7.0, 2.3333333333333335, 9.0] # [7, 3, 9]   #ceil은 소수점 올림함수\n",
        "cnt"
      ],
      "metadata": {
        "colab": {
          "base_uri": "https://localhost:8080/"
        },
        "id": "FzLfLlexXB_V",
        "outputId": "cedbb120-ea1e-4d59-cae2-b5e00f6f5a4d"
      },
      "execution_count": null,
      "outputs": [
        {
          "output_type": "execute_result",
          "data": {
            "text/plain": [
              "[5, 10, 1, 1, 20, 1]"
            ]
          },
          "metadata": {},
          "execution_count": 325
        }
      ]
    },
    {
      "cell_type": "code",
      "source": [
        "answer = []  \n",
        "\n",
        "for i in range(len(cnt)):      \n",
        "    if(i==0 or cnt[sum(answer)-answer[-1]] < cnt[i]):  # 0번 원소거나 기준 값보다 클 경우에만 새로 추가(배포)\n",
        "        answer.append(1)\n",
        "\n",
        "    else:  # 앞에 기능과 함께 배포\n",
        "        answer[-1]+=1"
      ],
      "metadata": {
        "id": "jzEliLcDb6kh"
      },
      "execution_count": null,
      "outputs": []
    },
    {
      "cell_type": "code",
      "source": [
        "answer"
      ],
      "metadata": {
        "colab": {
          "base_uri": "https://localhost:8080/"
        },
        "id": "0SivSMD5djdb",
        "outputId": "59c1e09a-9cf0-48d5-a1d7-609bfcc2d02a"
      },
      "execution_count": null,
      "outputs": [
        {
          "output_type": "execute_result",
          "data": {
            "text/plain": [
              "[1, 3, 2]"
            ]
          },
          "metadata": {},
          "execution_count": 330
        }
      ]
    },
    {
      "cell_type": "code",
      "source": [
        ""
      ],
      "metadata": {
        "id": "-2clXAKkgrlp"
      },
      "execution_count": null,
      "outputs": []
    },
    {
      "cell_type": "markdown",
      "source": [
        "#1.\n",
        "### 해시 > 완주하지 못한 선수"
      ],
      "metadata": {
        "id": "pPn5iC-gjFjg"
      }
    },
    {
      "cell_type": "code",
      "source": [
        "participant = [\"mislav\", \"stanko\", \"mislav\", \"ana\"]\n",
        "completion = [\"stanko\", \"ana\", \"mislav\"]"
      ],
      "metadata": {
        "id": "TIoFVZEzjKcn"
      },
      "execution_count": null,
      "outputs": []
    },
    {
      "cell_type": "code",
      "source": [
        "# 완주하지 못한 선수는 한명이라는 점을 이용한 함수. completion의 길이는 participant의 길이보다 1 작으므로.\n",
        "\n",
        "def solution(participant, completion):\n",
        "    participant.sort()\n",
        "    completion.sort()\n",
        "    for p, c in zip(participant, completion):\n",
        "        if p != c:\n",
        "            return p\n",
        "\n",
        "    return participant[-1]  # 마지막일 경우\n",
        "\n"
      ],
      "metadata": {
        "colab": {
          "base_uri": "https://localhost:8080/"
        },
        "id": "MWl6HoK7yccG",
        "outputId": "722ed305-c057-4eed-85f5-3b6c000cd539"
      },
      "execution_count": null,
      "outputs": [
        {
          "output_type": "stream",
          "name": "stdout",
          "text": [
            "mislav\n"
          ]
        }
      ]
    },
    {
      "cell_type": "code",
      "source": [
        "(# 효율성 테스트 0점.\n",
        "# count가 O(n) 시간복잡도를 가지고 있기 때문\n",
        "\n",
        "\"\"\"def solution(participant, completion):\n",
        "    answer = [] \n",
        "    for i in participant:\n",
        "        if i not in completion:\n",
        "            answer.append(i)\n",
        "\n",
        "        elif participant.count(i) != completion.count(i): # and i not in answer\n",
        "            answer.append(i)\n",
        "\n",
        "    answer = set(answer) \n",
        "\n",
        "    return \"\".join(answer)\"\"\""
      ],
      "metadata": {
        "id": "0ZMi-y6dzs7t"
      },
      "execution_count": null,
      "outputs": []
    },
    {
      "cell_type": "code",
      "source": [
        "# 완주하지 못한 선수는 한명이라는 점을 이용한 함수. completion의 길이는 participant의 길이보다 1 작으므로.\n",
        "\n",
        "def solution(participant, completion):\n",
        "    participant.sort()\n",
        "    completion.sort()\n",
        "    for p, c in zip(participant, completion):\n",
        "        if p != c:\n",
        "            return p\n",
        "\n",
        "    return participant[-1]  # 마지막일 경우\n",
        "\n"
      ],
      "metadata": {
        "id": "WLiJyNco9NS5"
      },
      "execution_count": null,
      "outputs": []
    },
    {
      "cell_type": "code",
      "source": [
        ""
      ],
      "metadata": {
        "id": "AQwZDuN2POmr"
      },
      "execution_count": null,
      "outputs": []
    },
    {
      "cell_type": "markdown",
      "source": [
        "- 전화번호 목록"
      ],
      "metadata": {
        "id": "MmwZ4m_YRH0R"
      }
    },
    {
      "cell_type": "code",
      "source": [
        "phone_book = [\"119\", \"97674223\", \"1195524421\"]"
      ],
      "metadata": {
        "id": "zKRYXlNyRPpW"
      },
      "execution_count": null,
      "outputs": []
    },
    {
      "cell_type": "code",
      "source": [
        "def solution(phone_book):\n",
        "    answer = True\n",
        "\n",
        "    phone_book.sort()\n",
        "            \n",
        "    for p1, p2 in zip(phone_book, phone_book[1:]):\n",
        "        if p2.startswith(p1):\n",
        "            return False\n",
        "    return True\n"
      ],
      "metadata": {
        "id": "z9YpAewRW4u_"
      },
      "execution_count": null,
      "outputs": []
    },
    {
      "cell_type": "code",
      "source": [
        "\"\"\"answer = True\n",
        "\n",
        "phone_book.sort(key=(lambda x: len(x)))\n",
        "\n",
        "for i in range(1, len(phone_book)):\n",
        "    if(phone_book[0] in phone_book[i]):\n",
        "        answer = False\n",
        "        break\"\"\""
      ],
      "metadata": {
        "id": "JFu0FolzRI2n"
      },
      "execution_count": null,
      "outputs": []
    },
    {
      "cell_type": "code",
      "source": [
        ""
      ],
      "metadata": {
        "id": "eXfOy3EsRSyI"
      },
      "execution_count": null,
      "outputs": []
    },
    {
      "cell_type": "markdown",
      "source": [
        "# 정렬\n",
        "### K번째 수"
      ],
      "metadata": {
        "id": "ELiSm_-IYEIK"
      }
    },
    {
      "cell_type": "code",
      "source": [
        "array = [1, 5, 2, 6, 3, 7, 4]\n",
        "commands = [[2, 5, 3], [4, 4, 1], [1, 7, 3]]"
      ],
      "metadata": {
        "id": "dCMkKYuDYKdb"
      },
      "execution_count": null,
      "outputs": []
    },
    {
      "cell_type": "code",
      "source": [
        "# 다른 사람 정답  \n",
        "def solution(array, commands):\n",
        "    return list(map(lambda x:sorted(array[x[0]-1:x[1]])[x[2]-1], commands))"
      ],
      "metadata": {
        "id": "WZ6QnHiGZovw"
      },
      "execution_count": null,
      "outputs": []
    },
    {
      "cell_type": "code",
      "source": [
        "# 내가 작성한거 (100)\n",
        "\n",
        "answer = []\n",
        "\n",
        "for comm in commands:\n",
        "  tmp = array[comm[0]-1:comm[1]]\n",
        "  tmp.sort()\n",
        "  print(tmp)\n",
        "  answer.append(tmp[comm[2]-1])"
      ],
      "metadata": {
        "colab": {
          "base_uri": "https://localhost:8080/"
        },
        "id": "S5e1NVLlYJNM",
        "outputId": "3f3834c1-2655-4966-9b4d-07c2be21fde9"
      },
      "execution_count": null,
      "outputs": [
        {
          "output_type": "stream",
          "name": "stdout",
          "text": [
            "[2, 3, 5, 6]\n",
            "[6]\n",
            "[1, 2, 3, 4, 5, 6, 7]\n"
          ]
        }
      ]
    },
    {
      "cell_type": "code",
      "source": [
        "answer"
      ],
      "metadata": {
        "colab": {
          "base_uri": "https://localhost:8080/"
        },
        "id": "MZa-3qwTYQK-",
        "outputId": "1c91c2f3-c334-474c-a3ee-1c74b705649b"
      },
      "execution_count": null,
      "outputs": [
        {
          "output_type": "execute_result",
          "data": {
            "text/plain": [
              "[5, 6, 3]"
            ]
          },
          "metadata": {},
          "execution_count": 390
        }
      ]
    },
    {
      "cell_type": "markdown",
      "source": [
        "### 가장 큰 수"
      ],
      "metadata": {
        "id": "JklTztOVaGW2"
      }
    },
    {
      "cell_type": "code",
      "source": [
        "#numbers = [6, 10, 2]\n",
        "numbers = [3, 30, 34, 5, 9]"
      ],
      "metadata": {
        "id": "FDwjACxpaLN1"
      },
      "execution_count": null,
      "outputs": []
    },
    {
      "cell_type": "code",
      "source": [
        "# 30이 3보다 크게 나타나는 문제가 있음!!! \n",
        "\n",
        "numbers = list(map(str, numbers)) # 문자형 리스트로 변경\n",
        "numbers = sorted(numbers, reverse=True, key = lambda x: x) # 내림차순 정렬.\n",
        "print(numbers) # 문자열이기 때문에 자릿수 상관없이 맨 앞자리부터 가장 큰 수가 출력\n",
        "''.join(numbers)"
      ],
      "metadata": {
        "colab": {
          "base_uri": "https://localhost:8080/",
          "height": 54
        },
        "id": "6PSpYVcrdPis",
        "outputId": "ac8d4c75-e251-4e5b-e6ed-f5e8d80a367f"
      },
      "execution_count": null,
      "outputs": [
        {
          "output_type": "stream",
          "name": "stdout",
          "text": [
            "['9', '5', '34', '30', '3']\n"
          ]
        },
        {
          "output_type": "execute_result",
          "data": {
            "text/plain": [
              "'9534303'"
            ],
            "application/vnd.google.colaboratory.intrinsic+json": {
              "type": "string"
            }
          },
          "metadata": {},
          "execution_count": 469
        }
      ]
    },
    {
      "cell_type": "code",
      "source": [
        "# numbers의 원소는 0 이상 1,000 이하이므로 위에 함수를 변형해서 사용해보기\n",
        "\n",
        "numbers = list(map(str, numbers)) # 문자형 리스트로 변경\n",
        "numbers = sorted(numbers, reverse=True, key = lambda x: x*3) # 내림차순 정렬.\n",
        "print(numbers)  \n",
        "''.join(numbers)"
      ],
      "metadata": {
        "colab": {
          "base_uri": "https://localhost:8080/",
          "height": 54
        },
        "id": "9QfYmc4GiqGx",
        "outputId": "25cd527e-9914-41e1-f827-69fe24f3c5e2"
      },
      "execution_count": null,
      "outputs": [
        {
          "output_type": "stream",
          "name": "stdout",
          "text": [
            "['9', '5', '34', '3', '30']\n"
          ]
        },
        {
          "output_type": "execute_result",
          "data": {
            "text/plain": [
              "'9534330'"
            ],
            "application/vnd.google.colaboratory.intrinsic+json": {
              "type": "string"
            }
          },
          "metadata": {},
          "execution_count": 472
        }
      ]
    },
    {
      "cell_type": "code",
      "source": [
        "# 위 sorted 풀어서 해석하면 아래와 같음.\n",
        "# 앞에서 부터 잘라서 비교할 때에 3이 30보다 작게 나타나는 문제가 해결됌\n",
        "\n",
        "for i in numbers:\n",
        "  print(i*3)"
      ],
      "metadata": {
        "colab": {
          "base_uri": "https://localhost:8080/"
        },
        "id": "HzqKmq0ZkWH6",
        "outputId": "419a81af-c893-4942-c1fe-5640510d4fb0"
      },
      "execution_count": null,
      "outputs": [
        {
          "output_type": "stream",
          "name": "stdout",
          "text": [
            "999\n",
            "555\n",
            "343434\n",
            "333\n",
            "303030\n"
          ]
        }
      ]
    },
    {
      "cell_type": "code",
      "source": [
        "# full ver\n",
        "\n",
        "def solution(numbers):\n",
        "    numbers = list(map(str, numbers)) # 문자형 리스트로 변경\n",
        "    numbers = sorted(numbers, reverse=True, key = lambda x: x*3) # 내림차순 정렬.\n",
        "   # print(numbers)  \n",
        "\n",
        "    # 0000을 0으로 출력하기 위해 int하고 str으로 다시 변환\n",
        "    return str(int(''.join(numbers)))  "
      ],
      "metadata": {
        "id": "EcB8X6rFgaPD"
      },
      "execution_count": null,
      "outputs": []
    },
    {
      "cell_type": "code",
      "source": [
        "# 다른 사람 풀이 full ver\n",
        "\n",
        "\"\"\"def solution(numbers):\n",
        "    numbers = list(map(str, numbers))\n",
        "    numbers.sort(key=lambda x: x*3, reverse=True)\n",
        "    return str(int(''.join(numbers)))\"\"\""
      ],
      "metadata": {
        "id": "0lSV1hh4g9z3"
      },
      "execution_count": null,
      "outputs": []
    },
    {
      "cell_type": "code",
      "source": [
        "# 시간이 너무 오래걸려서 사용 x\n",
        "# permutatoins 버전.\n",
        "\n",
        "\"\"\"from itertools import permutations\n",
        "num_list = list(permutations(numbers, len(numbers)))\n",
        "#num_list\n",
        "\n",
        "a = [''.join(map(str, i)) for i in num_list] \n",
        "max(a)\"\"\""
      ],
      "metadata": {
        "id": "p6Bak2AzYSh_"
      },
      "execution_count": null,
      "outputs": []
    },
    {
      "cell_type": "markdown",
      "source": [
        "### H-index\n",
        "- 논문 인용"
      ],
      "metadata": {
        "id": "f-QduqSxrtbZ"
      }
    },
    {
      "cell_type": "code",
      "source": [
        "# h의 최댓값이 이 과학자의 H-Index\n",
        "# n은 리스트 길이\n",
        "\n",
        "citations = [3, 0, 6, 1, 5]\n",
        "\n",
        "answer = 0\n",
        "citations.sort()\n",
        "\n",
        "for i in range(len(citations)):\n",
        "  if citations[i]+i <= len(citations):\n",
        "    answer = citations[i]"
      ],
      "metadata": {
        "id": "9FK7TgNTrvtN"
      },
      "execution_count": null,
      "outputs": []
    },
    {
      "cell_type": "code",
      "source": [
        "for i in range(len(citations)):\n",
        "  print(citations[i]+i)\n",
        "  if citations[i]<=len(citations) and citations[i]+i <= len(citations):\n",
        "    answer = citations[i]"
      ],
      "metadata": {
        "colab": {
          "base_uri": "https://localhost:8080/"
        },
        "id": "l-WFQ7zjr6ey",
        "outputId": "8274e8f5-36c8-43af-8e05-d303e596912c"
      },
      "execution_count": null,
      "outputs": [
        {
          "output_type": "stream",
          "name": "stdout",
          "text": [
            "0\n",
            "2\n",
            "5\n",
            "8\n",
            "10\n"
          ]
        }
      ]
    },
    {
      "cell_type": "code",
      "source": [
        "answer"
      ],
      "metadata": {
        "colab": {
          "base_uri": "https://localhost:8080/"
        },
        "id": "lpIMIgX_tKH3",
        "outputId": "68c59dd3-c7d6-4549-9794-17d04d765490"
      },
      "execution_count": null,
      "outputs": [
        {
          "output_type": "execute_result",
          "data": {
            "text/plain": [
              "3"
            ]
          },
          "metadata": {},
          "execution_count": 492
        }
      ]
    },
    {
      "cell_type": "code",
      "source": [
        ""
      ],
      "metadata": {
        "id": "Ydz-zrJwtOFT"
      },
      "execution_count": null,
      "outputs": []
    }
  ]
}