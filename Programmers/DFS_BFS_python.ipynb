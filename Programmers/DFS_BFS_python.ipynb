{
  "nbformat": 4,
  "nbformat_minor": 0,
  "metadata": {
    "colab": {
      "name": "DFS_BFS_python.ipynb",
      "provenance": [],
      "collapsed_sections": [],
      "authorship_tag": "ABX9TyMriUmidEjhFnRRMTY1g/2s",
      "include_colab_link": true
    },
    "kernelspec": {
      "name": "python3",
      "display_name": "Python 3"
    },
    "language_info": {
      "name": "python"
    }
  },
  "cells": [
    {
      "cell_type": "markdown",
      "metadata": {
        "id": "view-in-github",
        "colab_type": "text"
      },
      "source": [
        "<a href=\"https://colab.research.google.com/github/juhee3199/coding-practice/blob/main/Programmers/DFS_BFS_python.ipynb\" target=\"_parent\"><img src=\"https://colab.research.google.com/assets/colab-badge.svg\" alt=\"Open In Colab\"/></a>"
      ]
    },
    {
      "cell_type": "markdown",
      "source": [
        "## 타겟 넘버 - DFS (재귀적)"
      ],
      "metadata": {
        "id": "6Z_ZSiOPvVmW"
      }
    },
    {
      "cell_type": "code",
      "source": [
        "numbers = [1, 1, 1, 1, 1]\n",
        "target = 3"
      ],
      "metadata": {
        "id": "em8TBPSWx8FY"
      },
      "execution_count": 111,
      "outputs": []
    },
    {
      "cell_type": "code",
      "source": [
        "numbers = [4,1,2,1]\n",
        "target = 4"
      ],
      "metadata": {
        "id": "NMXElmirvc0o"
      },
      "execution_count": 102,
      "outputs": []
    },
    {
      "cell_type": "code",
      "source": [
        "# 100점!!! \n",
        "\n",
        "def solution(numbers, target):\n",
        "    import itertools\n",
        "\n",
        "    total = sum(numbers)\n",
        "    cnt =0\n",
        "\n",
        "    for i in range(1, len(numbers)):\n",
        "      npr = list(itertools.combinations(numbers, i))\n",
        "      for n in npr:\n",
        "        if total - sum(n) - sum(n) == target:\n",
        "          cnt+=1\n",
        "    return cnt\n",
        "\n",
        "\n",
        "solution(numbers, target)"
      ],
      "metadata": {
        "colab": {
          "base_uri": "https://localhost:8080/"
        },
        "id": "DxyBU3Whx6km",
        "outputId": "5f517ae2-26dc-4e79-ef6c-bd3097d9535a"
      },
      "execution_count": 114,
      "outputs": [
        {
          "output_type": "execute_result",
          "data": {
            "text/plain": [
              "5"
            ]
          },
          "metadata": {},
          "execution_count": 114
        }
      ]
    },
    {
      "cell_type": "code",
      "source": [
        "# combinations 결과.\n",
        "import itertools\n",
        "npr = list(itertools.combinations(numbers, 1))\n",
        "npr"
      ],
      "metadata": {
        "colab": {
          "base_uri": "https://localhost:8080/"
        },
        "id": "UZexbbuavwwc",
        "outputId": "8c716e3e-fad9-410a-bd64-1ae9c612f0de"
      },
      "execution_count": 43,
      "outputs": [
        {
          "output_type": "execute_result",
          "data": {
            "text/plain": [
              "[(1,), (1,), (1,), (1,), (1,)]"
            ]
          },
          "metadata": {},
          "execution_count": 43
        }
      ]
    },
    {
      "cell_type": "markdown",
      "source": [
        "### 네트워크\n",
        "\n",
        "- DFS - 방문한 곳에서 재귀적으로 방문\n",
        "- Stack 사용. 후입선출. push and pop\n",
        "- 방문순서 = 트리간선 순서"
      ],
      "metadata": {
        "id": "YIx25IIBhmOg"
      }
    },
    {
      "cell_type": "code",
      "source": [
        "n = 3\n",
        "computers = [[1, 1, 0], [1, 1, 0], [0, 0, 1]]\n",
        "# result = 2"
      ],
      "metadata": {
        "id": "FbhQbzQNkGGV"
      },
      "execution_count": 470,
      "outputs": []
    },
    {
      "cell_type": "code",
      "source": [
        "n=3 \n",
        "computers = [[1, 1, 0], [1, 1, 1], [0, 1, 1]]\n",
        "\n",
        "# result =1"
      ],
      "metadata": {
        "id": "Tumd7FxGkNEU"
      },
      "execution_count": 475,
      "outputs": []
    },
    {
      "cell_type": "code",
      "source": [
        "answer = 0 \n",
        "\n",
        "# 각 노드 방문 여부 체크\n",
        "visited = [0 for i in range(n)]\n",
        "visited"
      ],
      "metadata": {
        "colab": {
          "base_uri": "https://localhost:8080/"
        },
        "id": "ZASgz6Z3hnjP",
        "outputId": "86d8812b-ef40-4b12-a48a-6ecfd5c6931e"
      },
      "execution_count": 476,
      "outputs": [
        {
          "output_type": "execute_result",
          "data": {
            "text/plain": [
              "[0, 0, 0]"
            ]
          },
          "metadata": {},
          "execution_count": 476
        }
      ]
    },
    {
      "cell_type": "markdown",
      "source": [
        "- DFS 함수 재귀적으로 구현"
      ],
      "metadata": {
        "id": "8mn34N4KjShy"
      }
    },
    {
      "cell_type": "code",
      "source": [
        "# start는 0부터!\n",
        "\n",
        "def dfs(computers, visited, start):\n",
        "  stack = [start]\n",
        "  while(stack):\n",
        "    j = stack.pop()\n",
        "    \n",
        "    # 방문한적 없는 노드인 경우 방문.  각 노드에서 dfs가 재귀적으로 호출될 때에 방문처리 함.\n",
        "    if(visited[j]==0):\n",
        "      visited[j]= 1\n",
        "\n",
        "\n",
        "    for i in range(len(computers)):\n",
        "      # 서로 연결되어 있으면서 방문한 적 없는 노드이면 방문하기!\n",
        "      if(computers[j][i] and visited[i]==0):\n",
        "        stack.append(i)\n"
      ],
      "metadata": {
        "id": "Q4UHAHpqh48J"
      },
      "execution_count": 477,
      "outputs": []
    },
    {
      "cell_type": "markdown",
      "source": [
        "- Main 함수. DFS를 호출하는"
      ],
      "metadata": {
        "id": "5yLfK9xnjZQO"
      }
    },
    {
      "cell_type": "code",
      "source": [
        "i = 0                # 0번부터 방문. \n",
        "while 0 in visited:  # 방문하지 않은 노드가 없을 때까지 반복\n",
        "  if visited[i]==0:\n",
        "    dfs(computers, visited, i)\n",
        "    answer +=1                   # 재귀호출이 끝나고 돌아올 때 +1 이 됌. = 연결된 노드가 없을 때. \n",
        "  i+=1                           # = 시작노드에서 더이상 연결된 노드가 없을 때. 다시 돌아와서 방문하지 않은 새로운 노드를 찾아서 방문함\n"
      ],
      "metadata": {
        "id": "se595IQdi7Kz"
      },
      "execution_count": 478,
      "outputs": []
    },
    {
      "cell_type": "code",
      "source": [
        "answer"
      ],
      "metadata": {
        "colab": {
          "base_uri": "https://localhost:8080/"
        },
        "id": "jzEtMbaOkCdo",
        "outputId": "97154ef8-c96e-49ea-e370-6917c8e9a04b"
      },
      "execution_count": 479,
      "outputs": [
        {
          "output_type": "execute_result",
          "data": {
            "text/plain": [
              "1"
            ]
          },
          "metadata": {},
          "execution_count": 479
        }
      ]
    },
    {
      "cell_type": "markdown",
      "source": [
        "- full ver"
      ],
      "metadata": {
        "id": "_UFPb3XqlRWu"
      }
    },
    {
      "cell_type": "code",
      "source": [
        "def solution(n, computers):\n",
        "    answer = 0\n",
        "    \n",
        "    # 각 노드 방문 여부 체크\n",
        "    visited = [0 for i in range(n)]\n",
        "    visited\n",
        "    \n",
        "    ### DFS 함수 재귀적으로 구현\n",
        "    # start는 0부터!\n",
        "    def dfs(computers, visited, start):\n",
        "        stack = [start]\n",
        "        while(stack):\n",
        "            j = stack.pop()\n",
        "\n",
        "        # 방문한적 없는 노드인 경우 방문.  각 노드에서 dfs가 재귀적으로 호출될 때에 방문처리 함.\n",
        "            if(visited[j]==0):\n",
        "                visited[j]= 1\n",
        "\n",
        "\n",
        "            for i in range(len(computers)):\n",
        "             # 서로 연결되어 있으면서 방문한 적 없는 노드이면 방문하기!\n",
        "                if(computers[j][i] and visited[i]==0):\n",
        "                    stack.append(i)\n",
        "    \n",
        "    \n",
        "    ### Main 함수. DFS를 호출하는\n",
        "    i = 0                # 0번부터 방문. \n",
        "    while 0 in visited:  # 방문하지 않은 노드가 없을 때까지 반복\n",
        "        if visited[i]==0:\n",
        "            dfs(computers, visited, i)\n",
        "            answer +=1                   # 재귀호출이 끝나고 돌아올 때 +1 이 됌. = 연결된 노드가 없을 때. \n",
        "        i+=1                           # = 시작노드에서 더이상 연결된 노드가 없을 때. 다시 돌아와서 방문하지 않은 새로운 노드를 찾아서 방문함\n",
        "\n",
        "\n",
        "    return answer"
      ],
      "metadata": {
        "id": "TE3ooOPVkDbJ"
      },
      "execution_count": null,
      "outputs": []
    }
  ]
}