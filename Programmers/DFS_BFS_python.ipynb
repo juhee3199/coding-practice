{
  "nbformat": 4,
  "nbformat_minor": 0,
  "metadata": {
    "colab": {
      "name": "DFS_BFS_python.ipynb",
      "provenance": [],
      "collapsed_sections": [
        "0wua1qeysz-L"
      ],
      "authorship_tag": "ABX9TyPp/FNvFL6ttmGiIeHgPWrr",
      "include_colab_link": true
    },
    "kernelspec": {
      "name": "python3",
      "display_name": "Python 3"
    },
    "language_info": {
      "name": "python"
    }
  },
  "cells": [
    {
      "cell_type": "markdown",
      "metadata": {
        "id": "view-in-github",
        "colab_type": "text"
      },
      "source": [
        "<a href=\"https://colab.research.google.com/github/juhee3199/coding-practice/blob/main/Programmers/DFS_BFS_python.ipynb\" target=\"_parent\"><img src=\"https://colab.research.google.com/assets/colab-badge.svg\" alt=\"Open In Colab\"/></a>"
      ]
    },
    {
      "cell_type": "markdown",
      "source": [
        "## 타겟 넘버 - DFS (재귀적)"
      ],
      "metadata": {
        "id": "6Z_ZSiOPvVmW"
      }
    },
    {
      "cell_type": "code",
      "source": [
        "numbers = [1, 1, 1, 1, 1]\n",
        "target = 3"
      ],
      "metadata": {
        "id": "em8TBPSWx8FY"
      },
      "execution_count": 111,
      "outputs": []
    },
    {
      "cell_type": "code",
      "source": [
        "numbers = [4,1,2,1]\n",
        "target = 4"
      ],
      "metadata": {
        "id": "NMXElmirvc0o"
      },
      "execution_count": 102,
      "outputs": []
    },
    {
      "cell_type": "code",
      "source": [
        "# 100점!!! \n",
        "\n",
        "def solution(numbers, target):\n",
        "    import itertools\n",
        "\n",
        "    total = sum(numbers)\n",
        "    cnt =0\n",
        "\n",
        "    for i in range(1, len(numbers)):\n",
        "      npr = list(itertools.combinations(numbers, i))\n",
        "      for n in npr:\n",
        "        if total - sum(n) - sum(n) == target:\n",
        "          cnt+=1\n",
        "    return cnt\n",
        "\n",
        "\n",
        "solution(numbers, target)"
      ],
      "metadata": {
        "colab": {
          "base_uri": "https://localhost:8080/"
        },
        "id": "DxyBU3Whx6km",
        "outputId": "5f517ae2-26dc-4e79-ef6c-bd3097d9535a"
      },
      "execution_count": 114,
      "outputs": [
        {
          "output_type": "execute_result",
          "data": {
            "text/plain": [
              "5"
            ]
          },
          "metadata": {},
          "execution_count": 114
        }
      ]
    },
    {
      "cell_type": "code",
      "source": [
        "# combinations 결과.\n",
        "import itertools\n",
        "npr = list(itertools.combinations(numbers, 1))\n",
        "npr"
      ],
      "metadata": {
        "colab": {
          "base_uri": "https://localhost:8080/"
        },
        "id": "UZexbbuavwwc",
        "outputId": "8c716e3e-fad9-410a-bd64-1ae9c612f0de"
      },
      "execution_count": 43,
      "outputs": [
        {
          "output_type": "execute_result",
          "data": {
            "text/plain": [
              "[(1,), (1,), (1,), (1,), (1,)]"
            ]
          },
          "metadata": {},
          "execution_count": 43
        }
      ]
    },
    {
      "cell_type": "markdown",
      "source": [
        "### 네트워크\n",
        "\n",
        "- DFS - 방문한 곳에서 재귀적으로 방문\n",
        "- Stack 사용. 후입선출. push and pop\n",
        "- 방문순서 = 트리간선 순서"
      ],
      "metadata": {
        "id": "YIx25IIBhmOg"
      }
    },
    {
      "cell_type": "code",
      "source": [
        "n = 3\n",
        "computers = [[1, 1, 0], [1, 1, 0], [0, 0, 1]]\n",
        "# result = 2"
      ],
      "metadata": {
        "id": "FbhQbzQNkGGV"
      },
      "execution_count": 470,
      "outputs": []
    },
    {
      "cell_type": "code",
      "source": [
        "n=3 \n",
        "computers = [[1, 1, 0], [1, 1, 1], [0, 1, 1]]\n",
        "\n",
        "# result =1"
      ],
      "metadata": {
        "id": "Tumd7FxGkNEU"
      },
      "execution_count": 475,
      "outputs": []
    },
    {
      "cell_type": "code",
      "source": [
        "answer = 0 \n",
        "\n",
        "# 각 노드 방문 여부 체크\n",
        "visited = [0 for i in range(n)]\n",
        "visited"
      ],
      "metadata": {
        "colab": {
          "base_uri": "https://localhost:8080/"
        },
        "id": "ZASgz6Z3hnjP",
        "outputId": "86d8812b-ef40-4b12-a48a-6ecfd5c6931e"
      },
      "execution_count": 476,
      "outputs": [
        {
          "output_type": "execute_result",
          "data": {
            "text/plain": [
              "[0, 0, 0]"
            ]
          },
          "metadata": {},
          "execution_count": 476
        }
      ]
    },
    {
      "cell_type": "markdown",
      "source": [
        "- DFS 함수\n",
        "- 재귀 대신, stack으로 구현"
      ],
      "metadata": {
        "id": "8mn34N4KjShy"
      }
    },
    {
      "cell_type": "code",
      "source": [
        "# start는 0부터!\n",
        "\n",
        "def dfs(computers, visited, start):\n",
        "  stack = [start]\n",
        "  while(stack):\n",
        "    j = stack.pop()\n",
        "    \n",
        "    # 방문한적 없는 노드인 경우 방문.  각 노드에서 dfs가 재귀적으로 호출될 때에 방문처리 함.\n",
        "    if(visited[j]==0):\n",
        "      visited[j]= 1\n",
        "\n",
        "\n",
        "    for i in range(len(computers)):\n",
        "      # 서로 연결되어 있으면서 방문한 적 없는 노드이면 방문하기!\n",
        "      if(computers[j][i] and visited[i]==0):\n",
        "        stack.append(i)\n"
      ],
      "metadata": {
        "id": "Q4UHAHpqh48J"
      },
      "execution_count": 477,
      "outputs": []
    },
    {
      "cell_type": "markdown",
      "source": [
        "- Main 함수. DFS를 호출하는"
      ],
      "metadata": {
        "id": "5yLfK9xnjZQO"
      }
    },
    {
      "cell_type": "code",
      "source": [
        "i = 0                # 0번부터 방문. \n",
        "while 0 in visited:  # 방문하지 않은 노드가 없을 때까지 반복\n",
        "  if visited[i]==0:\n",
        "    dfs(computers, visited, i)\n",
        "    answer +=1                   # 재귀호출이 끝나고 돌아올 때 +1 이 됌. = 연결된 노드가 없을 때. \n",
        "  i+=1                           # = 시작노드에서 더이상 연결된 노드가 없을 때. 다시 돌아와서 방문하지 않은 새로운 노드를 찾아서 방문함\n"
      ],
      "metadata": {
        "id": "se595IQdi7Kz"
      },
      "execution_count": 478,
      "outputs": []
    },
    {
      "cell_type": "code",
      "source": [
        "answer"
      ],
      "metadata": {
        "colab": {
          "base_uri": "https://localhost:8080/"
        },
        "id": "jzEtMbaOkCdo",
        "outputId": "97154ef8-c96e-49ea-e370-6917c8e9a04b"
      },
      "execution_count": 479,
      "outputs": [
        {
          "output_type": "execute_result",
          "data": {
            "text/plain": [
              "1"
            ]
          },
          "metadata": {},
          "execution_count": 479
        }
      ]
    },
    {
      "cell_type": "markdown",
      "source": [
        "- full ver"
      ],
      "metadata": {
        "id": "_UFPb3XqlRWu"
      }
    },
    {
      "cell_type": "code",
      "source": [
        "def solution(n, computers):\n",
        "    answer = 0\n",
        "    \n",
        "    # 각 노드 방문 여부 체크\n",
        "    visited = [0 for i in range(n)]\n",
        "    visited\n",
        "    \n",
        "    ### DFS 함수 재귀적으로 구현\n",
        "    # start는 0부터!\n",
        "    def dfs(computers, visited, start):\n",
        "        stack = [start]\n",
        "        while(stack):\n",
        "            j = stack.pop()\n",
        "\n",
        "        # 방문한적 없는 노드인 경우 방문.  각 노드에서 dfs가 재귀적으로 호출될 때에 방문처리 함.\n",
        "            if(visited[j]==0):\n",
        "                visited[j]= 1\n",
        "\n",
        "\n",
        "            for i in range(len(computers)):\n",
        "             # 서로 연결되어 있으면서 방문한 적 없는 노드이면 방문하기!\n",
        "                if(computers[j][i] and visited[i]==0):\n",
        "                    stack.append(i)\n",
        "    \n",
        "    \n",
        "    ### Main 함수. DFS를 호출하는\n",
        "    i = 0                # 0번부터 방문. \n",
        "    while 0 in visited:  # 방문하지 않은 노드가 없을 때까지 반복\n",
        "        if visited[i]==0:\n",
        "            dfs(computers, visited, i)\n",
        "            answer +=1                   # 재귀호출이 끝나고 돌아올 때 +1 이 됌. = 연결된 노드가 없을 때. \n",
        "        i+=1                           # = 시작노드에서 더이상 연결된 노드가 없을 때. 다시 돌아와서 방문하지 않은 새로운 노드를 찾아서 방문함\n",
        "\n",
        "\n",
        "    return answer"
      ],
      "metadata": {
        "id": "TE3ooOPVkDbJ"
      },
      "execution_count": null,
      "outputs": []
    },
    {
      "cell_type": "markdown",
      "source": [
        "# BFS"
      ],
      "metadata": {
        "id": "Bry9UoA-onvf"
      }
    },
    {
      "cell_type": "markdown",
      "source": [
        "### 단어 변환 (x)"
      ],
      "metadata": {
        "id": "0wua1qeysz-L"
      }
    },
    {
      "cell_type": "code",
      "source": [
        "begin\t= \"hit\"\t\n",
        "target = \"cog\"\n",
        "words =\t[\"hot\", \"dot\", \"dog\", \"lot\", \"log\", \"cog\"]"
      ],
      "metadata": {
        "id": "8i9O-VJHooo0"
      },
      "execution_count": 534,
      "outputs": []
    },
    {
      "cell_type": "code",
      "source": [
        ""
      ],
      "metadata": {
        "id": "VO6xVnJyr3Ze"
      },
      "execution_count": 532,
      "outputs": []
    },
    {
      "cell_type": "code",
      "source": [
        "answer =0\n",
        "\n",
        "for w in words:\n",
        "  for i in range(len(begin)):\n",
        "    if target[i] == w[i] and begin[i] != target[i]: # begin을 고쳐야하는 경우\n",
        "      begin = w\n",
        "      answer+=1\n",
        "      print(begin)\n",
        "      break\n",
        "\n",
        "if begin != target:\n",
        "  answer =0\n"
      ],
      "metadata": {
        "colab": {
          "base_uri": "https://localhost:8080/"
        },
        "id": "rrkswSG6o1z3",
        "outputId": "1f777c8d-122d-4133-e827-58977743e401"
      },
      "execution_count": 533,
      "outputs": [
        {
          "output_type": "stream",
          "name": "stdout",
          "text": [
            "hot\n",
            "dog\n",
            "cog\n"
          ]
        }
      ]
    },
    {
      "cell_type": "code",
      "source": [
        "answer"
      ],
      "metadata": {
        "colab": {
          "base_uri": "https://localhost:8080/"
        },
        "id": "IyWYFeViqXxo",
        "outputId": "9edb5be4-e395-4912-e18a-71a6df5aa0f5"
      },
      "execution_count": 526,
      "outputs": [
        {
          "output_type": "execute_result",
          "data": {
            "text/plain": [
              "3"
            ]
          },
          "metadata": {},
          "execution_count": 526
        }
      ]
    },
    {
      "cell_type": "code",
      "source": [
        "      begin = list(begin)  # 값 변경을 위해\n",
        "      begin[i] = w[i]\n",
        "      begin = ''.join(begin)"
      ],
      "metadata": {
        "colab": {
          "base_uri": "https://localhost:8080/"
        },
        "id": "P8pmExAYo-7V",
        "outputId": "ff8077e1-8716-47c8-8fd8-7608a97854aa"
      },
      "execution_count": 511,
      "outputs": [
        {
          "output_type": "execute_result",
          "data": {
            "text/plain": [
              "['hit']"
            ]
          },
          "metadata": {},
          "execution_count": 511
        }
      ]
    },
    {
      "cell_type": "code",
      "source": [
        ""
      ],
      "metadata": {
        "id": "QGBT8y55qb61"
      },
      "execution_count": null,
      "outputs": []
    },
    {
      "cell_type": "markdown",
      "source": [
        "### 여행경로\n",
        "\n",
        "- 주어진 항공권을 모두 이용 = 모든 노드 방문\n",
        "\n",
        "- 가능한 경로가 2개 이상일 경우 알파벳 순서가 앞서는 경로를 return"
      ],
      "metadata": {
        "id": "2OuqFPiOsxZ5"
      }
    },
    {
      "cell_type": "code",
      "source": [
        "tickets = [[\"ICN\", \"SFO\"], [\"ICN\", \"ATL\"], [\"SFO\", \"ATL\"], [\"ATL\", \"ICN\"], [\"ATL\",\"SFO\"]]\n",
        "\n",
        "#tickets = [[\"ICN\", \"JFK\"], [\"HND\", \"IAD\"], [\"JFK\", \"HND\"]]"
      ],
      "metadata": {
        "id": "xIVADHgcsyNs"
      },
      "execution_count": 660,
      "outputs": []
    },
    {
      "cell_type": "code",
      "source": [
        "# 도착지 오름차순으로 정렬. 가능한 경로가 2개 이상일 경우 알파벳 순서가 앞서는 경로를 return하기 위해\n",
        "tickets.sort(key = lambda x: x[1])\n",
        "tickets"
      ],
      "metadata": {
        "colab": {
          "base_uri": "https://localhost:8080/"
        },
        "id": "8kju0KDQuHMA",
        "outputId": "d501e9a3-754e-46ce-fdf6-305b1c7923c5"
      },
      "execution_count": 661,
      "outputs": [
        {
          "output_type": "execute_result",
          "data": {
            "text/plain": [
              "[['ICN', 'ATL'],\n",
              " ['SFO', 'ATL'],\n",
              " ['ATL', 'ICN'],\n",
              " ['ICN', 'SFO'],\n",
              " ['ATL', 'SFO']]"
            ]
          },
          "metadata": {},
          "execution_count": 661
        }
      ]
    },
    {
      "cell_type": "code",
      "source": [
        "# 출발지는 무조건 ICN이므로 ICN이 맨 앞으로 오도록 순서 변경\n",
        "for i in range(len(tickets)):\n",
        "  if tickets[i][0] == 'ICN':\n",
        "    idx = i\n",
        "    break\n",
        "\n",
        "tickets = [tickets[idx]] + tickets[:i] + tickets[i+1:]\n",
        "tickets"
      ],
      "metadata": {
        "colab": {
          "base_uri": "https://localhost:8080/"
        },
        "id": "5_ZLdsXO4XAy",
        "outputId": "00bc9a62-d7aa-45b6-e549-55b8a092ce97"
      },
      "execution_count": 662,
      "outputs": [
        {
          "output_type": "execute_result",
          "data": {
            "text/plain": [
              "[['ICN', 'ATL'],\n",
              " ['SFO', 'ATL'],\n",
              " ['ATL', 'ICN'],\n",
              " ['ICN', 'SFO'],\n",
              " ['ATL', 'SFO']]"
            ]
          },
          "metadata": {},
          "execution_count": 662
        }
      ]
    },
    {
      "cell_type": "code",
      "source": [
        "# 방문 여부\n",
        "visited = [0 for i in range(len(tickets))]"
      ],
      "metadata": {
        "id": "6T_6MLyyuovy"
      },
      "execution_count": 663,
      "outputs": []
    },
    {
      "cell_type": "code",
      "source": [
        "\n",
        "def bfs(tickets, visited):\n",
        "  answer = list()\n",
        "\n",
        "   # 무조건 ICN에서 출발 (0번 인덱스)  \n",
        "  st = tickets[0]\n",
        "  answer.append(tickets[0][0])\n",
        "  answer.append(tickets[0][1])\n",
        "  visited[0] = 1\n",
        "  \n",
        "\n",
        "  for t in range(len(tickets)+1): # 항상 항공권+1 만큼 반복\n",
        "\n",
        "    for i in range(len(tickets)):\n",
        "      if st[1] == tickets[i][0] and visited[i] ==0:\n",
        "        \n",
        "        # 방문.\n",
        "        answer.append(tickets[i][1])\n",
        "        visited[i] = 1\n",
        "\n",
        "        # st 바꾸기\n",
        "        st = tickets[i]\n",
        "\n",
        "        break\n",
        "\n",
        "  return answer\n",
        "\n",
        "\n",
        "bfs(tickets, visited)\n",
        "#answer"
      ],
      "metadata": {
        "colab": {
          "base_uri": "https://localhost:8080/"
        },
        "id": "j5hdBgo3vB7n",
        "outputId": "b0771cda-29de-4eae-c2c9-4d60a8a16a27"
      },
      "execution_count": 664,
      "outputs": [
        {
          "output_type": "execute_result",
          "data": {
            "text/plain": [
              "['ICN', 'ATL', 'ICN', 'SFO', 'ATL', 'SFO']"
            ]
          },
          "metadata": {},
          "execution_count": 664
        }
      ]
    },
    {
      "cell_type": "markdown",
      "source": [
        "- BFS로 구현해보기\n",
        "(수정... )"
      ],
      "metadata": {
        "id": "X3T0SxuX7zNw"
      }
    },
    {
      "cell_type": "code",
      "source": [
        "# 무조건 ICN에서 출발 (0번 인덱스)  \n",
        "st = tickets[0]\n",
        "answer.append(tickets[0][0])\n",
        "answer.append(tickets[0][1])\n",
        "visited[0] = 1\n",
        "\n",
        "def dfs(tickets, visited, st):\n",
        "  stack = [st]\n",
        "  while(stack):\n",
        "    j = stack.pop()\n",
        "    \n",
        "    # 방문한적 없는 노드인 경우 방문.  각 노드에서 dfs가 재귀적으로 호출될 때에 방문처리 함.\n",
        "    if(visited[j]==0):\n",
        "      visited[j]= 1\n",
        "\n",
        "\n",
        "    for i in range(len(computers)):\n",
        "      # 서로 연결되어 있으면서 방문한 적 없는 노드이면 방문하기!\n",
        "      if(tickets[j][i] and visited[i]==0):\n",
        "        stack.append(i)\n",
        "\n",
        "\n",
        "\n",
        "  for t in range(len(tickets)+1): # 항상 항공권+1 만큼 반복\n",
        "\n",
        "    for i in range(len(tickets)):\n",
        "      if st[1] == tickets[i][0] and visited[i] ==0:\n",
        "        \n",
        "        # 방문.\n",
        "        answer.append(tickets[i][1])\n",
        "        visited[i] = 1\n",
        "\n",
        "        # st 바꾸기\n",
        "        st = tickets[i]\n",
        "\n",
        "        break\n",
        "\n",
        "  return answer"
      ],
      "metadata": {
        "id": "AmUEAaLXvzuy"
      },
      "execution_count": null,
      "outputs": []
    }
  ]
}