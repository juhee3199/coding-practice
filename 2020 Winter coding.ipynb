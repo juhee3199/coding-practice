{
 "cells": [
  {
   "cell_type": "markdown",
   "metadata": {},
   "source": [
    "2020 winter coding with 프로그래머스"
   ]
  },
  {
   "cell_type": "markdown",
   "metadata": {},
   "source": [
    "## 연습문제"
   ]
  },
  {
   "cell_type": "code",
   "execution_count": 24,
   "metadata": {},
   "outputs": [],
   "source": [
    "def solution(v):\n",
    "    answer = []\n",
    "    \n",
    "    if v[0][0]==v[1][0]:\n",
    "        if v[0][1]==v[2][1]:\n",
    "            answer = v[1][0],v[2][1]\n",
    "\n",
    "        else: # v[2][1]=v[1][1]  \n",
    "            answer= v[2][0],v[0][1]\n",
    "    \n",
    "    elif v[0][0]==v[2][0]:\n",
    "        if v[0][1] == v[1][1]:\n",
    "            answer = v[1][0],v[0][1]\n",
    "\n",
    "        else:\n",
    "            answer = v[1][0],v[0][1]\n",
    "    \n",
    "    else:  #v[0][0]==v[3][0]\n",
    "        if v[0][1]==v[1][1]:\n",
    "            answer=v[0][0],v[2][1]\n",
    "    \n",
    "        else:\n",
    "            answer=v[0][0],v[1][1]\n",
    "            \n",
    "    print('Hello Python')\n",
    "\n",
    "    return answer"
   ]
  },
  {
   "cell_type": "code",
   "execution_count": 25,
   "metadata": {},
   "outputs": [
    {
     "name": "stdout",
     "output_type": "stream",
     "text": [
      "Hello Python\n"
     ]
    },
    {
     "data": {
      "text/plain": [
       "(1, 10)"
      ]
     },
     "execution_count": 25,
     "metadata": {},
     "output_type": "execute_result"
    }
   ],
   "source": [
    "v=[[1, 4], [3, 4], [3, 10]]\n",
    "solution(v)"
   ]
  },
  {
   "cell_type": "code",
   "execution_count": 26,
   "metadata": {},
   "outputs": [
    {
     "name": "stdout",
     "output_type": "stream",
     "text": [
      "Hello Python\n"
     ]
    },
    {
     "data": {
      "text/plain": [
       "(2, 1)"
      ]
     },
     "execution_count": 26,
     "metadata": {},
     "output_type": "execute_result"
    }
   ],
   "source": [
    "v=[[1, 1], [2, 2], [1, 2]]\n",
    "solution(v)"
   ]
  },
  {
   "cell_type": "markdown",
   "metadata": {},
   "source": [
    "#### 기능 개발 (스택/큐)"
   ]
  },
  {
   "cell_type": "code",
   "execution_count": 109,
   "metadata": {},
   "outputs": [],
   "source": [
    "def solution(progresses, speeds):\n",
    "    answer = []\n",
    "    \n",
    "    cnt =0\n",
    "    day=[]\n",
    "    \n",
    "    j=0\n",
    "    for i in progresses:\n",
    "        while i<100:\n",
    "            i+=speeds[j]\n",
    "            cnt+=1\n",
    "        day.append(cnt)\n",
    "        cnt=0\n",
    "        j+=1\n",
    "    \n",
    "    j=0\n",
    "    comp=0\n",
    "    \n",
    "    for i in day:\n",
    "        if i>comp:\n",
    "            answer.append(1)\n",
    "        else:   #i<comp\n",
    "            answer[j]+=1\n",
    "            j+=1\n",
    "            \n",
    "    return answer"
   ]
  },
  {
   "cell_type": "code",
   "execution_count": 110,
   "metadata": {},
   "outputs": [
    {
     "data": {
      "text/plain": [
       "[1, 1, 1]"
      ]
     },
     "execution_count": 110,
     "metadata": {},
     "output_type": "execute_result"
    }
   ],
   "source": [
    "progresses = [93, 30, 55]\n",
    "speeds = [1,30,5]\n",
    "\n",
    "solution(progresses, speeds)\n",
    "\n",
    "#7,3,9"
   ]
  },
  {
   "cell_type": "code",
   "execution_count": 83,
   "metadata": {},
   "outputs": [
    {
     "data": {
      "text/plain": [
       "[1, 2]"
      ]
     },
     "execution_count": 83,
     "metadata": {},
     "output_type": "execute_result"
    }
   ],
   "source": [
    "answer=[]\n",
    "answer.append(1)\n",
    "answer.append(2)\n",
    "answer"
   ]
  },
  {
   "cell_type": "code",
   "execution_count": null,
   "metadata": {},
   "outputs": [],
   "source": [
    "cnt =0\n",
    "day=[]\n",
    "    \n",
    "j=0\n",
    "for i in progresses:\n",
    "    while i<100:\n",
    "        i+=speeds[j]\n",
    "        cnt+=1\n",
    "    day.append(cnt)\n",
    "    cnt=0\n",
    "    j+=1\n",
    "    \n",
    "print(day)\n",
    "\n",
    "#\n",
    "    for i in day:\n",
    "        if day[0]:\n",
    "            answer.append(1)\n",
    "            \n",
    "        elif i<= day[i-1]:\n",
    "            answer[j]+=1\n",
    "        else: \n",
    "            answer[j+1]+=1"
   ]
  },
  {
   "cell_type": "code",
   "execution_count": null,
   "metadata": {},
   "outputs": [],
   "source": [
    "def solution(bridge_length, weight, truck_weights):\n",
    "    answer = 0\n",
    "    \n",
    "    sec=0\n",
    "    p=0\n",
    "    passed=[]\n",
    "    while(TRUE):\n",
    "        \n",
    "    \n",
    "    return answer"
   ]
  },
  {
   "cell_type": "markdown",
   "metadata": {},
   "source": [
    "# 2020 Winter Coding 문제"
   ]
  },
  {
   "cell_type": "markdown",
   "metadata": {},
   "source": [
    "###  1번 문제  - 90점"
   ]
  },
  {
   "cell_type": "code",
   "execution_count": 171,
   "metadata": {},
   "outputs": [],
   "source": [
    "def solution(n, delivery):\n",
    "    answer = ''\n",
    "    alist=[]\n",
    "    \n",
    "    for i in range(n):\n",
    "        alist.append('?')\n",
    "        \n",
    "    for i in range(n):\n",
    "        for j in delivery:\n",
    "            p1=j[0]-1\n",
    "            p2=j[1]-1\n",
    "\n",
    "            if j[2]==1:\n",
    "                alist[p1]='O'\n",
    "                alist[p2]='O'\n",
    "\n",
    "            elif j[2]==0:\n",
    "                if alist[p1]=='O':\n",
    "                    alist[p2]='X'\n",
    "                elif alist[p2]=='O':\n",
    "                    alist[p1]='X'                    \n",
    "\n",
    "                else: #둘다 X인 경우\n",
    "                      continue\n",
    "        \n",
    "    for i in alist:\n",
    "        answer=answer+i\n",
    "        \n",
    "    return answer"
   ]
  },
  {
   "cell_type": "code",
   "execution_count": 172,
   "metadata": {},
   "outputs": [
    {
     "data": {
      "text/plain": [
       "'O?O?X?'"
      ]
     },
     "execution_count": 172,
     "metadata": {},
     "output_type": "execute_result"
    }
   ],
   "source": [
    "n=6\n",
    "delivery=[[1,3,1],[3,5,0],[5,4,0],[2,5,0]]\n",
    "\n",
    "solution(n, delivery)"
   ]
  },
  {
   "cell_type": "code",
   "execution_count": 173,
   "metadata": {},
   "outputs": [
    {
     "data": {
      "text/plain": [
       "'O?O?XXO'"
      ]
     },
     "execution_count": 173,
     "metadata": {},
     "output_type": "execute_result"
    }
   ],
   "source": [
    "n=7\n",
    "delivery=[[5,6,0],[1,3,1],[1,5,0],[7,6,0],[3,7,1],[2,5,0]]\n",
    "solution(n, delivery)"
   ]
  },
  {
   "cell_type": "code",
   "execution_count": 129,
   "metadata": {},
   "outputs": [],
   "source": []
  },
  {
   "cell_type": "code",
   "execution_count": 146,
   "metadata": {},
   "outputs": [
    {
     "data": {
      "text/plain": [
       "'??????'"
      ]
     },
     "execution_count": 146,
     "metadata": {},
     "output_type": "execute_result"
    }
   ],
   "source": [
    "answer=''\n",
    "n=6\n",
    "for i in range(n):\n",
    "    answer=answer+'?'\n",
    "answer"
   ]
  },
  {
   "cell_type": "code",
   "execution_count": 149,
   "metadata": {},
   "outputs": [
    {
     "ename": "TypeError",
     "evalue": "'str' object does not support item assignment",
     "output_type": "error",
     "traceback": [
      "\u001b[1;31m---------------------------------------------------------------------------\u001b[0m",
      "\u001b[1;31mTypeError\u001b[0m                                 Traceback (most recent call last)",
      "\u001b[1;32m<ipython-input-149-850823506fbf>\u001b[0m in \u001b[0;36m<module>\u001b[1;34m\u001b[0m\n\u001b[1;32m----> 1\u001b[1;33m \u001b[0manswer\u001b[0m\u001b[1;33m[\u001b[0m\u001b[1;36m1\u001b[0m\u001b[1;33m]\u001b[0m\u001b[1;33m=\u001b[0m\u001b[1;34m'a'\u001b[0m\u001b[1;33m\u001b[0m\u001b[1;33m\u001b[0m\u001b[0m\n\u001b[0m",
      "\u001b[1;31mTypeError\u001b[0m: 'str' object does not support item assignment"
     ]
    }
   ],
   "source": [
    "answer[1]='a'"
   ]
  },
  {
   "cell_type": "markdown",
   "metadata": {},
   "source": [
    "### 2번 문제 - 60점"
   ]
  },
  {
   "cell_type": "code",
   "execution_count": 227,
   "metadata": {},
   "outputs": [],
   "source": [
    "def solution(encrypted_text, key, rotation):\n",
    "    answer = ''\n",
    "    \n",
    "    for i in range(rotation):\n",
    "        tmp=encrypted_text[0]\n",
    "        encrypted_text=encrypted_text[1:]+tmp\n",
    "        \n",
    "        \n",
    "        j=0\n",
    "        answer=''\n",
    "        for i in encrypted_text:\n",
    "            tmp=ord(key[j])-96\n",
    "            tmp=ord(i)-tmp\n",
    "            if tmp<97:\n",
    "                tmp=tmp+26\n",
    "\n",
    "            ch=chr(tmp)\n",
    "            j+=1\n",
    "            answer=answer+ch\n",
    "            \n",
    "    return answer"
   ]
  },
  {
   "cell_type": "code",
   "execution_count": 221,
   "metadata": {},
   "outputs": [],
   "source": [
    "encrypted_text=\"qyyigoptvfb\"\n",
    "key=\"abcdefghijk\"\n",
    "rotation=3"
   ]
  },
  {
   "cell_type": "code",
   "execution_count": 222,
   "metadata": {},
   "outputs": [],
   "source": [
    "for i in range(rotation):\n",
    "        tmp=encrypted_text[0]\n",
    "        encrypted_text=encrypted_text[1:]+tmp\n",
    "        "
   ]
  },
  {
   "cell_type": "code",
   "execution_count": 223,
   "metadata": {},
   "outputs": [
    {
     "data": {
      "text/plain": [
       "'igoptvfbqyy'"
      ]
     },
     "execution_count": 223,
     "metadata": {},
     "output_type": "execute_result"
    }
   ],
   "source": [
    "encrypted_text"
   ]
  },
  {
   "cell_type": "code",
   "execution_count": 225,
   "metadata": {},
   "outputs": [
    {
     "data": {
      "text/plain": [
       "'hellopython'"
      ]
     },
     "execution_count": 225,
     "metadata": {},
     "output_type": "execute_result"
    }
   ],
   "source": [
    "j=0\n",
    "answer=''\n",
    "for i in encrypted_text:\n",
    "    tmp=ord(key[j])-96\n",
    "    tmp=ord(i)-tmp\n",
    "    if tmp<97:\n",
    "        tmp=tmp+26\n",
    "        \n",
    "    ch=chr(tmp)\n",
    "    j+=1\n",
    "    answer=answer+ch\n",
    "answer"
   ]
  },
  {
   "cell_type": "code",
   "execution_count": 215,
   "metadata": {},
   "outputs": [
    {
     "data": {
      "text/plain": [
       "8"
      ]
     },
     "execution_count": 215,
     "metadata": {},
     "output_type": "execute_result"
    }
   ],
   "source": [
    "tmp=ord('i')-ord(key[0])\n",
    "tmp"
   ]
  },
  {
   "cell_type": "code",
   "execution_count": 206,
   "metadata": {},
   "outputs": [
    {
     "data": {
      "text/plain": [
       "105"
      ]
     },
     "execution_count": 206,
     "metadata": {},
     "output_type": "execute_result"
    }
   ],
   "source": [
    "ord('i')"
   ]
  },
  {
   "cell_type": "code",
   "execution_count": 207,
   "metadata": {},
   "outputs": [
    {
     "data": {
      "text/plain": [
       "97"
      ]
     },
     "execution_count": 207,
     "metadata": {},
     "output_type": "execute_result"
    }
   ],
   "source": [
    "ord(key[0])"
   ]
  },
  {
   "cell_type": "code",
   "execution_count": 208,
   "metadata": {},
   "outputs": [
    {
     "data": {
      "text/plain": [
       "'a'"
      ]
     },
     "execution_count": 208,
     "metadata": {},
     "output_type": "execute_result"
    }
   ],
   "source": [
    "key[0]"
   ]
  },
  {
   "cell_type": "markdown",
   "metadata": {},
   "source": [
    "### 3번 문제 - 시간초과ㅠㅠ"
   ]
  },
  {
   "cell_type": "code",
   "execution_count": 235,
   "metadata": {},
   "outputs": [],
   "source": [
    "def solution(v):\n",
    "    answer = []\n",
    "    \n",
    "    block=[]\n",
    "    \n",
    "    for q in range(3):\n",
    "        tmp=0\n",
    "        for i in v:\n",
    "            for j in i:\n",
    "                if j==q:\n",
    "                    continue\n",
    "                else:\n",
    "                    i+=1\n",
    "                    j-= \n",
    "                    \n",
    "        answer.append(tmp)\n",
    "            \n",
    "            \n",
    "            \n",
    "            \n",
    "        \n",
    "    \n",
    "    \n",
    "    return answer"
   ]
  },
  {
   "cell_type": "code",
   "execution_count": 236,
   "metadata": {},
   "outputs": [
    {
     "data": {
      "text/plain": [
       "[11, 9, 12]"
      ]
     },
     "execution_count": 236,
     "metadata": {},
     "output_type": "execute_result"
    }
   ],
   "source": [
    "v=[[0,0,1,1],[1,1,1,1],[2,2,2,1],[0,0,0,2]]\n",
    "solution(v)"
   ]
  },
  {
   "cell_type": "code",
   "execution_count": null,
   "metadata": {},
   "outputs": [],
   "source": []
  }
 ],
 "metadata": {
  "kernelspec": {
   "display_name": "Python 3",
   "language": "python",
   "name": "python3"
  },
  "language_info": {
   "codemirror_mode": {
    "name": "ipython",
    "version": 3
   },
   "file_extension": ".py",
   "mimetype": "text/x-python",
   "name": "python",
   "nbconvert_exporter": "python",
   "pygments_lexer": "ipython3",
   "version": "3.7.3"
  }
 },
 "nbformat": 4,
 "nbformat_minor": 2
}
